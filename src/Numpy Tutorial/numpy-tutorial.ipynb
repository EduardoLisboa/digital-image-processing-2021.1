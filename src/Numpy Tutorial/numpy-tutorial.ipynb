{
 "cells": [
  {
   "cell_type": "markdown",
   "source": [
    "# Numpy Array"
   ],
   "metadata": {
    "collapsed": false,
    "pycharm": {
     "name": "#%% md\n"
    }
   }
  },
  {
   "cell_type": "markdown",
   "source": [
    "#### Make necessary imports"
   ],
   "metadata": {
    "collapsed": false,
    "pycharm": {
     "name": "#%% md\n"
    }
   }
  },
  {
   "cell_type": "code",
   "execution_count": 1,
   "metadata": {
    "collapsed": true,
    "pycharm": {
     "name": "#%% Make necessary imports\n"
    }
   },
   "outputs": [],
   "source": [
    "import numpy as np"
   ]
  },
  {
   "cell_type": "markdown",
   "source": [
    "#### Set standard size"
   ],
   "metadata": {
    "collapsed": false,
    "pycharm": {
     "name": "#%% md\n"
    }
   }
  },
  {
   "cell_type": "code",
   "execution_count": 5,
   "outputs": [],
   "source": [
    "size = (3, 3)"
   ],
   "metadata": {
    "collapsed": false,
    "pycharm": {
     "name": "#%%\n"
    }
   }
  },
  {
   "cell_type": "markdown",
   "source": [
    "#### 1. Create empty array and a full array with fill value 3"
   ],
   "metadata": {
    "collapsed": false,
    "pycharm": {
     "name": "#%% md\n"
    }
   }
  },
  {
   "cell_type": "code",
   "execution_count": 6,
   "outputs": [
    {
     "name": "stdout",
     "output_type": "stream",
     "text": [
      "[[0.000e+000 0.000e+000 0.000e+000]\n",
      " [0.000e+000 0.000e+000 1.093e-320]\n",
      " [0.000e+000 0.000e+000 0.000e+000]]\n",
      "[[3 3 3]\n",
      " [3 3 3]\n",
      " [3 3 3]]\n"
     ]
    }
   ],
   "source": [
    "empty_array = np.empty(size)\n",
    "full_array = np.full(size, 3)\n",
    "\n",
    "print(empty_array)\n",
    "print(full_array)"
   ],
   "metadata": {
    "collapsed": false,
    "pycharm": {
     "name": "#%%\n"
    }
   }
  },
  {
   "cell_type": "markdown",
   "source": [
    "#### 2. Create array filled with zeros"
   ],
   "metadata": {
    "collapsed": false,
    "pycharm": {
     "name": "#%% md\n"
    }
   }
  },
  {
   "cell_type": "code",
   "execution_count": 8,
   "outputs": [
    {
     "name": "stdout",
     "output_type": "stream",
     "text": [
      "[[0. 0. 0.]\n",
      " [0. 0. 0.]\n",
      " [0. 0. 0.]]\n"
     ]
    }
   ],
   "source": [
    "zeros_array = np.zeros(size)\n",
    "\n",
    "print(zeros_array)"
   ],
   "metadata": {
    "collapsed": false,
    "pycharm": {
     "name": "#%%\n"
    }
   }
  },
  {
   "cell_type": "markdown",
   "source": [
    "#### 3. Create array filled with ones"
   ],
   "metadata": {
    "collapsed": false
   }
  },
  {
   "cell_type": "code",
   "execution_count": 9,
   "outputs": [
    {
     "name": "stdout",
     "output_type": "stream",
     "text": [
      "[[1. 1. 1.]\n",
      " [1. 1. 1.]\n",
      " [1. 1. 1.]]\n"
     ]
    }
   ],
   "source": [
    "ones_array = np.ones(size)\n",
    "\n",
    "print(ones_array)"
   ],
   "metadata": {
    "collapsed": false,
    "pycharm": {
     "name": "#%%\n"
    }
   }
  },
  {
   "cell_type": "markdown",
   "source": [
    "#### 4. Check whether a Numpy array contains a specified row"
   ],
   "metadata": {
    "collapsed": false,
    "pycharm": {
     "name": "#%% md\n"
    }
   }
  },
  {
   "cell_type": "code",
   "execution_count": 11,
   "outputs": [
    {
     "name": "stdout",
     "output_type": "stream",
     "text": [
      "True\n",
      "False\n"
     ]
    }
   ],
   "source": [
    "desired_row = [1, 1, 1]\n",
    "\n",
    "print(desired_row in ones_array.tolist())\n",
    "print(desired_row in zeros_array.tolist())"
   ],
   "metadata": {
    "collapsed": false,
    "pycharm": {
     "name": "#%%\n"
    }
   }
  },
  {
   "cell_type": "markdown",
   "source": [
    "#### 5. Remove rows in Numpy array that contains non-numeric values"
   ],
   "metadata": {
    "collapsed": false,
    "pycharm": {
     "name": "#%% md\n"
    }
   }
  },
  {
   "cell_type": "code",
   "execution_count": 15,
   "outputs": [
    {
     "name": "stdout",
     "output_type": "stream",
     "text": [
      "[[10.5  22.5   3.8   5.  ]\n",
      " [23.45 50.   78.7   3.5 ]\n",
      " [18.8  50.6   8.8  58.6 ]]\n"
     ]
    }
   ],
   "source": [
    "nan_array = np.array([[10.5, 22.5, 3.8, 5],\n",
    "                      [23.45, 50, 78.7, 3.5],\n",
    "                      [41, np.nan, np.nan, 0],\n",
    "                      [20, 50.20, np.nan, 2.5],\n",
    "                      [18.8, 50.60, 8.8, 58.6]])\n",
    "\n",
    "new_array = nan_array[~np.isnan(nan_array).any(axis=1)]\n",
    "print(new_array)"
   ],
   "metadata": {
    "collapsed": false,
    "pycharm": {
     "name": "#%%\n"
    }
   }
  },
  {
   "cell_type": "markdown",
   "source": [
    "#### 6. Remove single-dimensional entries from the shape of an array"
   ],
   "metadata": {
    "collapsed": false,
    "pycharm": {
     "name": "#%% md\n"
    }
   }
  },
  {
   "cell_type": "code",
   "execution_count": 20,
   "outputs": [
    {
     "name": "stdout",
     "output_type": "stream",
     "text": [
      "Original array:\n",
      "[[[1.]\n",
      "  [1.]\n",
      "  [1.]\n",
      "  [1.]]]\n",
      "(1, 4, 1)\n",
      "Squeezed array\n",
      "[1. 1. 1. 1.]\n",
      "(4,)\n"
     ]
    }
   ],
   "source": [
    "ex_array = np.ones((1, 4, 1))\n",
    "\n",
    "print('Original array:')\n",
    "print(ex_array)\n",
    "print(ex_array.shape)\n",
    "\n",
    "new_ex_array = np.squeeze(ex_array)\n",
    "\n",
    "print('Squeezed array')\n",
    "print(new_ex_array)\n",
    "print(new_ex_array.shape)"
   ],
   "metadata": {
    "collapsed": false,
    "pycharm": {
     "name": "#%%\n"
    }
   }
  },
  {
   "cell_type": "markdown",
   "source": [
    "#### 7. Find the number of occurrences of a sequence in a NumPy array"
   ],
   "metadata": {
    "collapsed": false,
    "pycharm": {
     "name": "#%% md\n"
    }
   }
  },
  {
   "cell_type": "code",
   "execution_count": 22,
   "outputs": [
    {
     "name": "stdout",
     "output_type": "stream",
     "text": [
      "4\n"
     ]
    }
   ],
   "source": [
    "ex_array = np.array([[2, 8, 9, 4],\n",
    "                   [9, 4, 9, 4],\n",
    "                   [4, 5, 9, 7],\n",
    "                   [2, 9, 4, 3]])\n",
    "\n",
    "count = repr(ex_array).count(\"9, 4\")\n",
    "\n",
    "print(count)"
   ],
   "metadata": {
    "collapsed": false,
    "pycharm": {
     "name": "#%%\n"
    }
   }
  },
  {
   "cell_type": "markdown",
   "source": [
    "#### 8. Find the most frequent value in a NumPy array"
   ],
   "metadata": {
    "collapsed": false,
    "pycharm": {
     "name": "#%% md\n"
    }
   }
  },
  {
   "cell_type": "code",
   "execution_count": 25,
   "outputs": [
    {
     "name": "stdout",
     "output_type": "stream",
     "text": [
      "9\n"
     ]
    }
   ],
   "source": [
    "ex_array = np.array([2, 8, 9, 4, 9, 4, 9, 4, 4, 5, 9, 7, 2, 9, 1, 3])\n",
    "\n",
    "count = np.bincount(ex_array).argmax()\n",
    "\n",
    "print(count)\n"
   ],
   "metadata": {
    "collapsed": false,
    "pycharm": {
     "name": "#%%\n"
    }
   }
  },
  {
   "cell_type": "markdown",
   "source": [
    "#### 9. Combining a one and a two-dimensional NumPy Array"
   ],
   "metadata": {
    "collapsed": false
   }
  },
  {
   "cell_type": "code",
   "execution_count": 30,
   "outputs": [
    {
     "name": "stdout",
     "output_type": "stream",
     "text": [
      "[0 1 2 3 4]\n",
      "[[ 0  1  2  3  4]\n",
      " [ 5  6  7  8  9]\n",
      " [10 11 12 13 14]]\n",
      "0:0\n",
      "1:1\n",
      "2:2\n",
      "3:3\n",
      "4:4\n",
      "0:5\n",
      "1:6\n",
      "2:7\n",
      "3:8\n",
      "4:9\n",
      "0:10\n",
      "1:11\n",
      "2:12\n",
      "3:13\n",
      "4:14\n"
     ]
    }
   ],
   "source": [
    "array_1d = np.arange(5)\n",
    "array_2d = np.arange(15).reshape((3, 5))\n",
    "\n",
    "print(array_1d)\n",
    "print(array_2d)\n",
    "\n",
    "for a, b in np.nditer([array_1d, array_2d]):\n",
    "    print(f'{a}:{b}')"
   ],
   "metadata": {
    "collapsed": false,
    "pycharm": {
     "name": "#%%\n"
    }
   }
  },
  {
   "cell_type": "markdown",
   "source": [
    "#### 10. How to build an array of all combinations of two NumPy arrays?"
   ],
   "metadata": {
    "collapsed": false,
    "pycharm": {
     "name": "#%% md\n"
    }
   }
  },
  {
   "cell_type": "code",
   "execution_count": 35,
   "outputs": [
    {
     "name": "stdout",
     "output_type": "stream",
     "text": [
      "[[ 0  0]\n",
      " [ 0  1]\n",
      " [ 0  2]\n",
      " [ 0  3]\n",
      " [ 0  4]\n",
      " [ 0  5]\n",
      " [ 0  6]\n",
      " [ 0  7]\n",
      " [ 0  8]\n",
      " [ 0  9]\n",
      " [ 0 10]\n",
      " [ 0 11]\n",
      " [ 0 12]\n",
      " [ 0 13]\n",
      " [ 0 14]\n",
      " [ 1  0]\n",
      " [ 1  1]\n",
      " [ 1  2]\n",
      " [ 1  3]\n",
      " [ 1  4]\n",
      " [ 1  5]\n",
      " [ 1  6]\n",
      " [ 1  7]\n",
      " [ 1  8]\n",
      " [ 1  9]\n",
      " [ 1 10]\n",
      " [ 1 11]\n",
      " [ 1 12]\n",
      " [ 1 13]\n",
      " [ 1 14]\n",
      " [ 2  0]\n",
      " [ 2  1]\n",
      " [ 2  2]\n",
      " [ 2  3]\n",
      " [ 2  4]\n",
      " [ 2  5]\n",
      " [ 2  6]\n",
      " [ 2  7]\n",
      " [ 2  8]\n",
      " [ 2  9]\n",
      " [ 2 10]\n",
      " [ 2 11]\n",
      " [ 2 12]\n",
      " [ 2 13]\n",
      " [ 2 14]\n",
      " [ 3  0]\n",
      " [ 3  1]\n",
      " [ 3  2]\n",
      " [ 3  3]\n",
      " [ 3  4]\n",
      " [ 3  5]\n",
      " [ 3  6]\n",
      " [ 3  7]\n",
      " [ 3  8]\n",
      " [ 3  9]\n",
      " [ 3 10]\n",
      " [ 3 11]\n",
      " [ 3 12]\n",
      " [ 3 13]\n",
      " [ 3 14]\n",
      " [ 4  0]\n",
      " [ 4  1]\n",
      " [ 4  2]\n",
      " [ 4  3]\n",
      " [ 4  4]\n",
      " [ 4  5]\n",
      " [ 4  6]\n",
      " [ 4  7]\n",
      " [ 4  8]\n",
      " [ 4  9]\n",
      " [ 4 10]\n",
      " [ 4 11]\n",
      " [ 4 12]\n",
      " [ 4 13]\n",
      " [ 4 14]]\n"
     ]
    }
   ],
   "source": [
    "new_array = np.array(np.meshgrid(array_1d, array_2d)).T.reshape(-1, 2)\n",
    "\n",
    "print(new_array)\n",
    "\n"
   ],
   "metadata": {
    "collapsed": false,
    "pycharm": {
     "name": "#%%\n"
    }
   }
  },
  {
   "cell_type": "markdown",
   "source": [
    "#### 11. How to add a border around a NumPy array?"
   ],
   "metadata": {
    "collapsed": false
   }
  },
  {
   "cell_type": "code",
   "execution_count": 37,
   "outputs": [
    {
     "name": "stdout",
     "output_type": "stream",
     "text": [
      "[[1. 1. 1.]\n",
      " [1. 1. 1.]\n",
      " [1. 1. 1.]]\n",
      "[[0. 0. 0. 0. 0.]\n",
      " [0. 1. 1. 1. 0.]\n",
      " [0. 1. 1. 1. 0.]\n",
      " [0. 1. 1. 1. 0.]\n",
      " [0. 0. 0. 0. 0.]]\n"
     ]
    }
   ],
   "source": [
    "ones_array = np.ones(size)\n",
    "\n",
    "# \"mode\" and \"constant_values\" are optional\n",
    "padded_array = np.pad(ones_array, pad_width=1, mode='constant', constant_values=0)\n",
    "\n",
    "print(ones_array)\n",
    "print(padded_array)"
   ],
   "metadata": {
    "collapsed": false,
    "pycharm": {
     "name": "#%%\n"
    }
   }
  },
  {
   "cell_type": "markdown",
   "source": [
    "#### 12. How to compare two NumPy arrays?"
   ],
   "metadata": {
    "collapsed": false
   }
  },
  {
   "cell_type": "code",
   "execution_count": 41,
   "outputs": [
    {
     "name": "stdout",
     "output_type": "stream",
     "text": [
      "Array 1 and Array 2:\n",
      "    True\n",
      "Array 1 and Array 3:\n",
      "    False\n"
     ]
    }
   ],
   "source": [
    "ex_array1 = np.ones(size)\n",
    "ex_array2 = [[1, 1, 1],\n",
    "             [1, 1, 1],\n",
    "             [1, 1, 1]]\n",
    "ex_array3 = np.zeros(size)\n",
    "\n",
    "print('Array 1 and Array 2:', end='\\n    ')\n",
    "print(np.array_equal(ex_array1, ex_array2))\n",
    "print('Array 1 and Array 3:', end='\\n    ')\n",
    "print(np.array_equal(ex_array1, ex_array3))\n"
   ],
   "metadata": {
    "collapsed": false,
    "pycharm": {
     "name": "#%%\n"
    }
   }
  },
  {
   "cell_type": "markdown",
   "source": [
    "#### 13. How to check whether specified values are present in NumPy array?"
   ],
   "metadata": {
    "collapsed": false
   }
  },
  {
   "cell_type": "code",
   "execution_count": 42,
   "outputs": [
    {
     "name": "stdout",
     "output_type": "stream",
     "text": [
      "True\n",
      "False\n",
      "True\n",
      "False\n"
     ]
    }
   ],
   "source": [
    "ex_array = np.array([[2, 8, 9, 4],\n",
    "                   [9, 4, 9, 4],\n",
    "                   [4, 5, 9, 7],\n",
    "                   [2, 9, 4, 3]])\n",
    "\n",
    "print(4 in ex_array)\n",
    "print(1 in ex_array)\n",
    "print(3 in ex_array)\n",
    "print(12 in ex_array)\n"
   ],
   "metadata": {
    "collapsed": false,
    "pycharm": {
     "name": "#%%\n"
    }
   }
  },
  {
   "cell_type": "markdown",
   "source": [
    "#### 14. How to get all 2D diagonals of a 3D NumPy array?"
   ],
   "metadata": {
    "collapsed": false
   }
  },
  {
   "cell_type": "code",
   "execution_count": 44,
   "outputs": [
    {
     "name": "stdout",
     "output_type": "stream",
     "text": [
      "Original array:\n",
      "[[[ 0  1  2  3  4]\n",
      "  [ 5  6  7  8  9]\n",
      "  [10 11 12 13 14]\n",
      "  [15 16 17 18 19]]\n",
      "\n",
      " [[20 21 22 23 24]\n",
      "  [25 26 27 28 29]\n",
      "  [30 31 32 33 34]\n",
      "  [35 36 37 38 39]]\n",
      "\n",
      " [[40 41 42 43 44]\n",
      "  [45 46 47 48 49]\n",
      "  [50 51 52 53 54]\n",
      "  [55 56 57 58 59]]]\n",
      "\n",
      "Diagonals array:\n",
      "[[ 0  6 12 18]\n",
      " [20 26 32 38]\n",
      " [40 46 52 58]]\n"
     ]
    }
   ],
   "source": [
    "ex_array = np.arange(3 * 4 * 5).reshape(3, 4, 5)\n",
    "\n",
    "diagonal = np.diagonal(ex_array, axis1=1, axis2=2)\n",
    "\n",
    "print('Original array:')\n",
    "print(ex_array)\n",
    "print('\\nDiagonals array:')\n",
    "print(diagonal)"
   ],
   "metadata": {
    "collapsed": false,
    "pycharm": {
     "name": "#%%\n"
    }
   }
  },
  {
   "cell_type": "markdown",
   "source": [
    "#### 15. Flatten a Matrix in Python using NumPy"
   ],
   "metadata": {
    "collapsed": false
   }
  },
  {
   "cell_type": "code",
   "execution_count": 46,
   "outputs": [
    {
     "name": "stdout",
     "output_type": "stream",
     "text": [
      "Original array:\n",
      "[[2 8 9 4]\n",
      " [9 4 9 4]\n",
      " [4 5 9 7]\n",
      " [2 9 4 3]]\n",
      "\n",
      "Flattened array:\n",
      "[2 8 9 4 9 4 9 4 4 5 9 7 2 9 4 3]\n"
     ]
    }
   ],
   "source": [
    "ex_array = np.array([[2, 8, 9, 4],\n",
    "                   [9, 4, 9, 4],\n",
    "                   [4, 5, 9, 7],\n",
    "                   [2, 9, 4, 3]])\n",
    "\n",
    "flat_array = ex_array.flatten()\n",
    "\n",
    "print('Original array:')\n",
    "print(ex_array)\n",
    "print('\\nFlattened array:')\n",
    "print(flat_array)"
   ],
   "metadata": {
    "collapsed": false,
    "pycharm": {
     "name": "#%%\n"
    }
   }
  },
  {
   "cell_type": "markdown",
   "source": [
    "#### 16. Flatten a 2d numpy array into 1d array (the same as above)"
   ],
   "metadata": {
    "collapsed": false
   }
  },
  {
   "cell_type": "code",
   "execution_count": 47,
   "outputs": [
    {
     "name": "stdout",
     "output_type": "stream",
     "text": [
      "Original array:\n",
      "[[2 8 9 4]\n",
      " [9 4 9 4]\n",
      " [4 5 9 7]\n",
      " [2 9 4 3]]\n",
      "\n",
      "Flattened array:\n",
      "[2 8 9 4 9 4 9 4 4 5 9 7 2 9 4 3]\n"
     ]
    }
   ],
   "source": [
    "ex_array = np.array([[2, 8, 9, 4],\n",
    "                   [9, 4, 9, 4],\n",
    "                   [4, 5, 9, 7],\n",
    "                   [2, 9, 4, 3]])\n",
    "\n",
    "flat_array = ex_array.flatten()\n",
    "\n",
    "print('Original array:')\n",
    "print(ex_array)\n",
    "print('\\nFlattened array:')\n",
    "print(flat_array)"
   ],
   "metadata": {
    "collapsed": false,
    "pycharm": {
     "name": "#%%\n"
    }
   }
  },
  {
   "cell_type": "markdown",
   "source": [
    "#### 17. Move axes of an array to new positions"
   ],
   "metadata": {
    "collapsed": false
   }
  },
  {
   "cell_type": "code",
   "execution_count": 50,
   "outputs": [
    {
     "name": "stdout",
     "output_type": "stream",
     "text": [
      "Original array:\n",
      "[[[0. 0. 0. 0.]\n",
      "  [0. 0. 0. 0.]\n",
      "  [0. 0. 0. 0.]]\n",
      "\n",
      " [[0. 0. 0. 0.]\n",
      "  [0. 0. 0. 0.]\n",
      "  [0. 0. 0. 0.]]]\n",
      "\n",
      "X axis moved:\n",
      "[[[0. 0. 0.]\n",
      "  [0. 0. 0.]]\n",
      "\n",
      " [[0. 0. 0.]\n",
      "  [0. 0. 0.]]\n",
      "\n",
      " [[0. 0. 0.]\n",
      "  [0. 0. 0.]]\n",
      "\n",
      " [[0. 0. 0.]\n",
      "  [0. 0. 0.]]]\n",
      "\n",
      "Y axis moved:\n",
      "[[[0. 0.]\n",
      "  [0. 0.]\n",
      "  [0. 0.]\n",
      "  [0. 0.]]\n",
      "\n",
      " [[0. 0.]\n",
      "  [0. 0.]\n",
      "  [0. 0.]\n",
      "  [0. 0.]]\n",
      "\n",
      " [[0. 0.]\n",
      "  [0. 0.]\n",
      "  [0. 0.]\n",
      "  [0. 0.]]]\n"
     ]
    }
   ],
   "source": [
    "ex_array = np.zeros((2, 3, 4))\n",
    "\n",
    "move_x = np.moveaxis(ex_array, -1, 0)\n",
    "move_y = np.moveaxis(ex_array, 0, -1)\n",
    "\n",
    "print('Original array:')\n",
    "print(ex_array)\n",
    "print('\\nX axis moved:')\n",
    "print(move_x)\n",
    "print('\\nY axis moved:')\n",
    "print(move_y)"
   ],
   "metadata": {
    "collapsed": false,
    "pycharm": {
     "name": "#%%\n"
    }
   }
  },
  {
   "cell_type": "markdown",
   "source": [
    "#### 18. Interchange two axes of an array"
   ],
   "metadata": {
    "collapsed": false
   }
  },
  {
   "cell_type": "code",
   "execution_count": 51,
   "outputs": [
    {
     "name": "stdout",
     "output_type": "stream",
     "text": [
      "Original array:\n",
      "[[1 2 3]]\n",
      "\n",
      "Swapped axis array:\n",
      "[[1]\n",
      " [2]\n",
      " [3]]\n"
     ]
    }
   ],
   "source": [
    "ex_array = np.array([[1, 2, 3]])\n",
    "\n",
    "swapped = np.swapaxes(ex_array, 0, 1)\n",
    "\n",
    "print('Original array:')\n",
    "print(ex_array)\n",
    "print('\\nSwapped axis array:')\n",
    "print(swapped)"
   ],
   "metadata": {
    "collapsed": false,
    "pycharm": {
     "name": "#%%\n"
    }
   }
  },
  {
   "cell_type": "markdown",
   "source": [
    "#### 19. NumPy – Fibonacci Series using Binet Formula\n",
    "The formula:\n",
    "\n",
    "$f(n) = [(\\alpha)^n - (\\beta)^n] * \\frac{1}{\\sqrt{5}}$\n",
    "\n",
    "Where $\\alpha = \\frac{1+\\sqrt{5}}{2}$ and $\\beta = \\frac{1-\\sqrt{5}}{2}$"
   ],
   "metadata": {
    "collapsed": false
   }
  },
  {
   "cell_type": "code",
   "execution_count": 52,
   "outputs": [
    {
     "name": "stdout",
     "output_type": "stream",
     "text": [
      "The first 10 elements of Fibonacci sequence are [ 1.  1.  2.  3.  5.  8. 13. 21. 34. 55.]\n"
     ]
    }
   ],
   "source": [
    "array = np.arange(1, 11)\n",
    "\n",
    "# For simplicity\n",
    "sqrt_five = np.sqrt(5)\n",
    "alpha = (1 + sqrt_five) / 2\n",
    "beta = (1 - sqrt_five) / 2\n",
    "\n",
    "binet = np.rint(((alpha ** array) - (beta ** array)) / sqrt_five)\n",
    "print(f'The first {len(array)} elements of Fibonacci sequence are {binet}')"
   ],
   "metadata": {
    "collapsed": false,
    "pycharm": {
     "name": "#%%\n"
    }
   }
  },
  {
   "cell_type": "markdown",
   "source": [
    "#### 20. Counts the number of non-zero values in the array"
   ],
   "metadata": {
    "collapsed": false
   }
  },
  {
   "cell_type": "code",
   "execution_count": 53,
   "outputs": [
    {
     "name": "stdout",
     "output_type": "stream",
     "text": [
      "8\n"
     ]
    }
   ],
   "source": [
    "ex_array = [[0, 1, 2, 3, 0],\n",
    "            [0, 5, 6, 0, 7],\n",
    "            [9, 0, 1, 0, 0]]\n",
    "\n",
    "count = np.count_nonzero(ex_array)\n",
    "\n",
    "print(count)\n"
   ],
   "metadata": {
    "collapsed": false,
    "pycharm": {
     "name": "#%%\n"
    }
   }
  },
  {
   "cell_type": "markdown",
   "source": [
    "#### 21. Count the number of elements along a given axis"
   ],
   "metadata": {
    "collapsed": false
   }
  },
  {
   "cell_type": "code",
   "execution_count": 57,
   "outputs": [
    {
     "name": "stdout",
     "output_type": "stream",
     "text": [
      "Original array:\n",
      "[[0 1 2 3]\n",
      " [4 5 6 7]]\n",
      "\n",
      "Size of the whole array:\n",
      "8\n",
      "Number of rows in x axis:\n",
      "2\n",
      "Number of cols in y axis:\n",
      "4\n"
     ]
    }
   ],
   "source": [
    "ex_array = np.arange(8).reshape(2, 4)\n",
    "\n",
    "print('Original array:')\n",
    "print(ex_array)\n",
    "print('\\nSize of the whole array:')\n",
    "print(np.size(ex_array))\n",
    "print('Number of rows in x axis:')\n",
    "print(np.size(ex_array, 0))\n",
    "print('Number of cols in y axis:')\n",
    "print(np.size(ex_array, 1))\n"
   ],
   "metadata": {
    "collapsed": false,
    "pycharm": {
     "name": "#%%\n"
    }
   }
  },
  {
   "cell_type": "markdown",
   "source": [
    "#### 22. Trim the leading and/or trailing zeros from a 1-D array"
   ],
   "metadata": {
    "collapsed": false
   }
  },
  {
   "cell_type": "code",
   "execution_count": 58,
   "outputs": [
    {
     "name": "stdout",
     "output_type": "stream",
     "text": [
      "Original array:\n",
      "[ 0  0  0  0  1  5  7  0  6  2  9  0 10  0  0]\n",
      "\n",
      "Trimmed array:\n",
      "[ 1  5  7  0  6  2  9  0 10]\n"
     ]
    }
   ],
   "source": [
    "ex_array = np.array([0, 0, 0, 0, 1, 5, 7, 0, 6, 2, 9, 0, 10, 0, 0])\n",
    "\n",
    "trimmed = np.trim_zeros(ex_array)\n",
    "\n",
    "print('Original array:')\n",
    "print(ex_array)\n",
    "print('\\nTrimmed array:')\n",
    "print(trimmed)\n"
   ],
   "metadata": {
    "collapsed": false,
    "pycharm": {
     "name": "#%%\n"
    }
   }
  },
  {
   "cell_type": "markdown",
   "source": [
    "#### 23. Change data type of given numpy array"
   ],
   "metadata": {
    "collapsed": false
   }
  },
  {
   "cell_type": "code",
   "execution_count": 59,
   "outputs": [
    {
     "name": "stdout",
     "output_type": "stream",
     "text": [
      "int32\n",
      "float64\n"
     ]
    }
   ],
   "source": [
    "ex_array = np.array([0, 0, 0, 0, 1, 5, 7, 0, 6, 2, 9, 0, 10, 0, 0])\n",
    "new_array = ex_array.astype('float64')\n",
    "\n",
    "print(ex_array.dtype)\n",
    "print(new_array.dtype)"
   ],
   "metadata": {
    "collapsed": false,
    "pycharm": {
     "name": "#%%\n"
    }
   }
  },
  {
   "cell_type": "markdown",
   "source": [
    "#### 24. Reverse a numpy array"
   ],
   "metadata": {
    "collapsed": false
   }
  },
  {
   "cell_type": "code",
   "execution_count": 62,
   "outputs": [
    {
     "name": "stdout",
     "output_type": "stream",
     "text": [
      "Original array:\n",
      "[[0 1 2 3 0]\n",
      " [0 5 6 0 7]\n",
      " [9 0 1 0 0]]\n",
      "\n",
      "Flipped array:\n",
      "[[0 0 1 0 9]\n",
      " [7 0 6 5 0]\n",
      " [0 3 2 1 0]]\n"
     ]
    }
   ],
   "source": [
    "ex_array = np.array([[0, 1, 2, 3, 0],\n",
    "                    [0, 5, 6, 0, 7],\n",
    "                    [9, 0, 1, 0, 0]])\n",
    "\n",
    "flipped = np.flip(ex_array)\n",
    "\n",
    "print('Original array:')\n",
    "print(ex_array)\n",
    "print('\\nFlipped array:')\n",
    "print(flipped)\n"
   ],
   "metadata": {
    "collapsed": false,
    "pycharm": {
     "name": "#%%\n"
    }
   }
  },
  {
   "cell_type": "markdown",
   "source": [
    "#### 25. How to make a NumPy array read-only?"
   ],
   "metadata": {
    "collapsed": false
   }
  },
  {
   "cell_type": "code",
   "execution_count": 64,
   "outputs": [
    {
     "name": "stdout",
     "output_type": "stream",
     "text": [
      "Before any changes:\n",
      "[0. 0. 0. 0. 0. 0. 0. 0. 0. 0.]\n",
      "After first change:\n",
      "[0. 2. 0. 0. 0. 0. 0. 0. 0. 0.]\n",
      "After making array immutable and attempting a change:\n"
     ]
    },
    {
     "ename": "ValueError",
     "evalue": "assignment destination is read-only",
     "output_type": "error",
     "traceback": [
      "\u001B[1;31m---------------------------------------------------------------------------\u001B[0m",
      "\u001B[1;31mValueError\u001B[0m                                Traceback (most recent call last)",
      "\u001B[1;32m~\\AppData\\Local\\Temp/ipykernel_34592/3047429968.py\u001B[0m in \u001B[0;36m<module>\u001B[1;34m\u001B[0m\n\u001B[0;32m     10\u001B[0m \u001B[0mex_array\u001B[0m\u001B[1;33m.\u001B[0m\u001B[0mflags\u001B[0m\u001B[1;33m.\u001B[0m\u001B[0mwriteable\u001B[0m \u001B[1;33m=\u001B[0m \u001B[1;32mFalse\u001B[0m\u001B[1;33m\u001B[0m\u001B[1;33m\u001B[0m\u001B[0m\n\u001B[0;32m     11\u001B[0m \u001B[0mprint\u001B[0m\u001B[1;33m(\u001B[0m\u001B[1;34m'After making array immutable and attempting a change:'\u001B[0m\u001B[1;33m)\u001B[0m\u001B[1;33m\u001B[0m\u001B[1;33m\u001B[0m\u001B[0m\n\u001B[1;32m---> 12\u001B[1;33m \u001B[0mex_array\u001B[0m\u001B[1;33m[\u001B[0m\u001B[1;36m1\u001B[0m\u001B[1;33m]\u001B[0m \u001B[1;33m=\u001B[0m \u001B[1;36m7\u001B[0m\u001B[1;33m\u001B[0m\u001B[1;33m\u001B[0m\u001B[0m\n\u001B[0m\u001B[0;32m     13\u001B[0m \u001B[1;33m\u001B[0m\u001B[0m\n",
      "\u001B[1;31mValueError\u001B[0m: assignment destination is read-only"
     ]
    }
   ],
   "source": [
    "ex_array = np.zeros(10)\n",
    "\n",
    "print('Before any changes:')\n",
    "print(ex_array)\n",
    "\n",
    "ex_array[1] = 2\n",
    "print('After first change:')\n",
    "print(ex_array)\n",
    "\n",
    "ex_array.flags.writeable = False\n",
    "print('After making array immutable and attempting a change:')\n",
    "ex_array[1] = 7"
   ],
   "metadata": {
    "collapsed": false,
    "pycharm": {
     "name": "#%%\n"
    }
   }
  },
  {
   "cell_type": "markdown",
   "source": [
    "# Questions on NumPy Matrix"
   ],
   "metadata": {
    "collapsed": false
   }
  },
  {
   "cell_type": "markdown",
   "source": [
    "#### 1. Get the maximum value from given matrix"
   ],
   "metadata": {
    "collapsed": false,
    "pycharm": {
     "name": "#%% md\n"
    }
   }
  },
  {
   "cell_type": "code",
   "source": [
    "ex_array = np.array([[11, 12, 13],\n",
    "                     [14, 15, 16],\n",
    "                     [17, 15, 11],\n",
    "                     [12, 14, 15]])\n",
    "\n",
    "max_value = np.amax(ex_array)\n",
    "\n",
    "print(max_value)\n"
   ],
   "metadata": {
    "collapsed": false,
    "pycharm": {
     "name": "#%%\n"
    }
   },
   "execution_count": 66,
   "outputs": [
    {
     "name": "stdout",
     "output_type": "stream",
     "text": [
      "6\n",
      "17\n"
     ]
    }
   ]
  },
  {
   "cell_type": "markdown",
   "source": [
    "#### 2. Get the minimum value from given matrix"
   ],
   "metadata": {
    "collapsed": false
   }
  },
  {
   "cell_type": "code",
   "source": [
    "ex_array = np.array([[11, 12, 13],\n",
    "                     [14, 15, 16],\n",
    "                     [17, 15, 11],\n",
    "                     [12, 14, 15]])\n",
    "\n",
    "max_value = np.amin(ex_array)\n",
    "\n",
    "print(max_value)"
   ],
   "metadata": {
    "collapsed": false,
    "pycharm": {
     "name": "#%%\n"
    }
   },
   "execution_count": 67,
   "outputs": [
    {
     "name": "stdout",
     "output_type": "stream",
     "text": [
      "11\n"
     ]
    }
   ]
  },
  {
   "cell_type": "markdown",
   "source": [
    "#### 3. Find the number of rows and columns of a given matrix using NumPy"
   ],
   "metadata": {
    "collapsed": false
   }
  },
  {
   "cell_type": "code",
   "source": [
    "ex_array = np.array([[11, 12, 13],\n",
    "                     [14, 15, 16],\n",
    "                     [17, 15, 11],\n",
    "                     [12, 14, 15]])\n",
    "\n",
    "print(ex_array.shape)"
   ],
   "metadata": {
    "collapsed": false,
    "pycharm": {
     "name": "#%%\n"
    }
   },
   "execution_count": 68,
   "outputs": [
    {
     "name": "stdout",
     "output_type": "stream",
     "text": [
      "(4, 3)\n"
     ]
    }
   ]
  },
  {
   "cell_type": "markdown",
   "source": [
    "#### 4. Select the elements from a given matrix"
   ],
   "metadata": {
    "collapsed": false
   }
  },
  {
   "cell_type": "code",
   "source": [
    "ex_array = np.array([[11, 2, 13],\n",
    "                     [14, 5, 16],\n",
    "                     [17, 15, 9],\n",
    "                     [12, 4, 15]])\n",
    "\n",
    "new_array = np.select(ex_array <= 11, ex_array)\n",
    "\n",
    "print('Original array:')\n",
    "print(ex_array)\n",
    "print('\\nNew array:')\n",
    "print(new_array)\n"
   ],
   "metadata": {
    "collapsed": false,
    "pycharm": {
     "name": "#%%\n"
    }
   },
   "execution_count": 72,
   "outputs": [
    {
     "name": "stdout",
     "output_type": "stream",
     "text": [
      "Original array:\n",
      "[[11  2 13]\n",
      " [14  5 16]\n",
      " [17 15  9]\n",
      " [12  4 15]]\n",
      "\n",
      "New array:\n",
      "[11  2  9]\n"
     ]
    }
   ]
  },
  {
   "cell_type": "markdown",
   "source": [
    "#### 5. Find the sum of values in a matrix"
   ],
   "metadata": {
    "collapsed": false
   }
  },
  {
   "cell_type": "code",
   "source": [
    "ex_array = np.array([[11, 2, 13],\n",
    "                     [14, 5, 16],\n",
    "                     [17, 15, 9],\n",
    "                     [12, 4, 15]])\n",
    "\n",
    "array_sum = ex_array.sum()\n",
    "\n",
    "print(array_sum)"
   ],
   "metadata": {
    "collapsed": false,
    "pycharm": {
     "name": "#%%\n"
    }
   },
   "execution_count": 74,
   "outputs": [
    {
     "name": "stdout",
     "output_type": "stream",
     "text": [
      "133\n"
     ]
    }
   ]
  },
  {
   "cell_type": "markdown",
   "source": [
    "#### 6. Calculate the sum of the diagonal elements of a NumPy array"
   ],
   "metadata": {
    "collapsed": false
   }
  },
  {
   "cell_type": "code",
   "source": [
    "ex_array = np.array([[11, 2, 13],\n",
    "                     [14, 5, 16],\n",
    "                     [17, 15, 9]])\n",
    "\n",
    "trace = np.trace(ex_array)\n",
    "\n",
    "print('Original matrix:')\n",
    "print(ex_array)\n",
    "print('\\nDiagonal sum:')\n",
    "print(trace)\n"
   ],
   "metadata": {
    "collapsed": false,
    "pycharm": {
     "name": "#%%\n"
    }
   },
   "execution_count": 76,
   "outputs": [
    {
     "name": "stdout",
     "output_type": "stream",
     "text": [
      "Original matrix:\n",
      "[[11  2 13]\n",
      " [14  5 16]\n",
      " [17 15  9]]\n",
      "\n",
      "Diagonal sum:\n",
      "25\n"
     ]
    }
   ]
  },
  {
   "cell_type": "markdown",
   "source": [
    "#### 7. Adding and Subtracting Matrices in Python"
   ],
   "metadata": {
    "collapsed": false
   }
  },
  {
   "cell_type": "code",
   "source": [
    "ex_array1 = np.array([[11, 2, 13],\n",
    "                     [14, 5, 16],\n",
    "                     [17, 15, 9]])\n",
    "\n",
    "ex_array2 = np.array([[2, 8, 4],\n",
    "                   [9, 4, 1],\n",
    "                   [4, 5, 10]])\n",
    "\n",
    "matrix_sum = np.add(ex_array1, ex_array2)\n",
    "matrix_sub = np.subtract(ex_array1, ex_array2)\n",
    "\n",
    "print(f'Sum:\\n{matrix_sum}')\n",
    "print(f'\\nSubtraction:\\n{matrix_sub}')"
   ],
   "metadata": {
    "collapsed": false,
    "pycharm": {
     "name": "#%%\n"
    }
   },
   "execution_count": 80,
   "outputs": [
    {
     "name": "stdout",
     "output_type": "stream",
     "text": [
      "Sum:\n",
      "[[13 10 17]\n",
      " [23  9 17]\n",
      " [21 20 19]]\n",
      "\n",
      "Subtraction:\n",
      "[[ 9 -6  9]\n",
      " [ 5  1 15]\n",
      " [13 10 -1]]\n"
     ]
    }
   ]
  },
  {
   "cell_type": "markdown",
   "source": [
    "#### 8. Ways to add row/columns in numpy array"
   ],
   "metadata": {
    "collapsed": false
   }
  },
  {
   "cell_type": "code",
   "source": [
    "ex_array = np.array([[1, 2, 3],\n",
    "                     [45, 4, 7],\n",
    "                     [9, 6, 10]])\n",
    "\n",
    "to_be_added = np.array([0, 0, 0])\n",
    "\n",
    "added_array = np.hstack((ex_array, np.atleast_2d(to_be_added).T))\n",
    "\n",
    "print(f'Original array:\\n{ex_array}')\n",
    "print(f'\\nColumn added array:\\n{added_array}')"
   ],
   "metadata": {
    "collapsed": false,
    "pycharm": {
     "name": "#%%\n"
    }
   },
   "execution_count": 84,
   "outputs": [
    {
     "name": "stdout",
     "output_type": "stream",
     "text": [
      "Original array:\n",
      "[[ 1  2  3]\n",
      " [45  4  7]\n",
      " [ 9  6 10]]\n",
      "Column added array:\n",
      "[[ 1  2  3  0]\n",
      " [45  4  7  0]\n",
      " [ 9  6 10  0]]\n"
     ]
    }
   ]
  },
  {
   "cell_type": "markdown",
   "source": [
    "#### 9. Matrix Multiplication in NumPy"
   ],
   "metadata": {
    "collapsed": false
   }
  },
  {
   "cell_type": "code",
   "source": [
    "ex_array1 = np.array([[11, 2, 13],\n",
    "                     [14, 5, 16],\n",
    "                     [17, 15, 9]])\n",
    "\n",
    "ex_array2 = np.array([[2, 8, 4],\n",
    "                   [9, 4, 1],\n",
    "                   [4, 5, 10]])\n",
    "\n",
    "mult = np.dot(ex_array1, ex_array2)\n",
    "\n",
    "print(mult)"
   ],
   "metadata": {
    "collapsed": false,
    "pycharm": {
     "name": "#%%\n"
    }
   },
   "execution_count": 85,
   "outputs": [
    {
     "name": "stdout",
     "output_type": "stream",
     "text": [
      "[[ 92 161 176]\n",
      " [137 212 221]\n",
      " [205 241 173]]\n"
     ]
    }
   ]
  },
  {
   "cell_type": "markdown",
   "source": [
    "#### 10. Get the eigen values of a matrix"
   ],
   "metadata": {
    "collapsed": false
   }
  },
  {
   "cell_type": "code",
   "source": [
    "ex_array = np.array([[1, 2, 3],\n",
    "                     [45, 4, 7],\n",
    "                     [9, 6, 10]])\n",
    "\n",
    "eigen_values, eigen_vectors = np.linalg.eig(ex_array)\n",
    "\n",
    "print(f'Eigen values:\\n{eigen_values}')"
   ],
   "metadata": {
    "collapsed": false,
    "pycharm": {
     "name": "#%%\n"
    }
   },
   "execution_count": 87,
   "outputs": [
    {
     "name": "stdout",
     "output_type": "stream",
     "text": [
      "Eigen values:\n",
      "[-5.69973694  0.64746042 20.05227652]\n",
      "\n",
      "Eigen vectors:\n",
      "[[ 0.16267116 -0.02470318  0.17761459]\n",
      " [-0.94916409 -0.83045413  0.76686194]\n",
      " [ 0.2694914   0.55653903  0.61674616]]\n"
     ]
    }
   ]
  },
  {
   "cell_type": "markdown",
   "source": [
    "#### 11. How to Calculate the determinant of a matrix using NumPy?"
   ],
   "metadata": {
    "collapsed": false
   }
  },
  {
   "cell_type": "code",
   "source": [
    "ex_array = np.array([[1, 2, 3],\n",
    "                     [45, 4, 7],\n",
    "                     [9, 6, 10]])\n",
    "\n",
    "det = np.linalg.det(ex_array)\n",
    "\n",
    "print(det)"
   ],
   "metadata": {
    "collapsed": false,
    "pycharm": {
     "name": "#%%\n"
    }
   },
   "execution_count": 88,
   "outputs": [
    {
     "name": "stdout",
     "output_type": "stream",
     "text": [
      "-73.99999999999983\n"
     ]
    }
   ]
  },
  {
   "cell_type": "markdown",
   "source": [
    "#### 12. How to inverse a matrix using NumPy"
   ],
   "metadata": {
    "collapsed": false
   }
  },
  {
   "cell_type": "code",
   "source": [
    "ex_array = np.array([[6, 1, 1, 3],\n",
    "                  [4, -2, 5, 1],\n",
    "                  [2, 8, 7, 6],\n",
    "                  [3, 1, 9, 7]])\n",
    "\n",
    "inverse = np.linalg.inv(ex_array)\n",
    "\n",
    "print(inverse)"
   ],
   "metadata": {
    "collapsed": false,
    "pycharm": {
     "name": "#%%\n"
    }
   },
   "execution_count": 89,
   "outputs": [
    {
     "name": "stdout",
     "output_type": "stream",
     "text": [
      "[[ 0.13368984  0.10695187  0.02139037 -0.09090909]\n",
      " [-0.00229183  0.02673797  0.14820474 -0.12987013]\n",
      " [-0.12987013  0.18181818  0.06493506 -0.02597403]\n",
      " [ 0.11000764 -0.28342246 -0.11382735  0.23376623]]\n"
     ]
    }
   ]
  },
  {
   "cell_type": "markdown",
   "source": [
    "#### 13. How to count the frequency of unique values in NumPy array?"
   ],
   "metadata": {
    "collapsed": false
   }
  },
  {
   "cell_type": "code",
   "source": [
    "ex_array = np.array([[6, 1, 1, 3],\n",
    "                  [4, -2, 5, 1],\n",
    "                  [2, 8, 7, 6],\n",
    "                  [3, 1, 9, 7]])\n",
    "\n",
    "unique, freq = np.unique(ex_array, return_counts=True)\n",
    "count = np.asarray((unique, freq))\n",
    "\n",
    "print(count)\n"
   ],
   "metadata": {
    "collapsed": false,
    "pycharm": {
     "name": "#%%\n"
    }
   },
   "execution_count": 91,
   "outputs": [
    {
     "name": "stdout",
     "output_type": "stream",
     "text": [
      "[[-2  1  2  3  4  5  6  7  8  9]\n",
      " [ 1  4  1  2  1  1  2  2  1  1]]\n"
     ]
    }
   ]
  },
  {
   "cell_type": "markdown",
   "source": [
    "#### 14. Multiply matrices of complex numbers using NumPy in Python"
   ],
   "metadata": {
    "collapsed": false
   }
  },
  {
   "cell_type": "code",
   "source": [
    "ex_array1 = np.array([2+3j, 4+5j])\n",
    "ex_array2 = np.array([8+7j, 5+6j])\n",
    "\n",
    "mult = np.vdot(ex_array1, ex_array2)\n",
    "\n",
    "print(f'Matrix 1:\\n{ex_array1}')\n",
    "print(f'\\nMatrix 2:\\n{ex_array2}')\n",
    "print(f'\\nMultiplication:\\n{mult}')"
   ],
   "metadata": {
    "collapsed": false,
    "pycharm": {
     "name": "#%%\n"
    }
   },
   "execution_count": 94,
   "outputs": [
    {
     "name": "stdout",
     "output_type": "stream",
     "text": [
      "Matrix 1:\n",
      "[2.+3.j 4.+5.j]\n",
      "\n",
      "Matrix 2:\n",
      "[8.+7.j 5.+6.j]\n",
      "\n",
      "Multiplication:\n",
      "(87-11j)\n"
     ]
    }
   ]
  },
  {
   "cell_type": "markdown",
   "source": [
    "#### 15. Compute the outer product of two given vectors using NumPy in Python"
   ],
   "metadata": {
    "collapsed": false
   }
  },
  {
   "cell_type": "code",
   "source": [
    "ex_array1 = np.array([[11, 2, 13],\n",
    "                     [14, 5, 16],\n",
    "                     [17, 15, 9]])\n",
    "\n",
    "ex_array2 = np.array([[2, 8, 4],\n",
    "                   [9, 4, 1],\n",
    "                   [4, 5, 10]])\n",
    "\n",
    "outer = np.outer(ex_array1, ex_array2)\n",
    "\n",
    "print(outer)"
   ],
   "metadata": {
    "collapsed": false,
    "pycharm": {
     "name": "#%%\n"
    }
   },
   "execution_count": 95,
   "outputs": [
    {
     "name": "stdout",
     "output_type": "stream",
     "text": [
      "[[ 22  88  44  99  44  11  44  55 110]\n",
      " [  4  16   8  18   8   2   8  10  20]\n",
      " [ 26 104  52 117  52  13  52  65 130]\n",
      " [ 28 112  56 126  56  14  56  70 140]\n",
      " [ 10  40  20  45  20   5  20  25  50]\n",
      " [ 32 128  64 144  64  16  64  80 160]\n",
      " [ 34 136  68 153  68  17  68  85 170]\n",
      " [ 30 120  60 135  60  15  60  75 150]\n",
      " [ 18  72  36  81  36   9  36  45  90]]\n"
     ]
    }
   ]
  },
  {
   "cell_type": "markdown",
   "source": [
    "#### 16. Calculate inner, outer, and cross products of matrices and vectors using NumPy"
   ],
   "metadata": {
    "collapsed": false
   }
  },
  {
   "cell_type": "code",
   "source": [
    "ex_vec1 = np.array([2, 6])\n",
    "ex_vec2 = np.array([3, 10])\n",
    "\n",
    "ex_array1 = np.array([[2, 3, 4],\n",
    "                      [3, 2, 9]])\n",
    "ex_array2 = np.array([[1, 5, 0],\n",
    "                      [5, 10, 3]])\n",
    "\n",
    "inner_vec = np.inner(ex_vec1, ex_vec2)\n",
    "inner_array = np.inner(ex_array1, ex_array2)\n",
    "\n",
    "print(f'Inner product of vectors:\\n{inner_vec}')\n",
    "print(f'\\nInner product of matrices:\\n{inner_array}')\n",
    "\n",
    "outer_vec = np.outer(ex_vec1, ex_vec2)\n",
    "outer_array = np.outer(ex_array1, ex_array2)\n",
    "\n",
    "print(f'\\n\\nOuter product of vectors:\\n{outer_vec}')\n",
    "print(f'\\nOuter product of matrices:\\n{outer_array}')\n",
    "\n",
    "cross_vec = np.cross(ex_vec1, ex_vec2)\n",
    "cross_array = np.cross(ex_array1, ex_array2)\n",
    "\n",
    "print(f'\\n\\nCross product of vectors:\\n{cross_vec}')\n",
    "print(f'\\nCross product of matrices:\\n{cross_array}')"
   ],
   "metadata": {
    "collapsed": false,
    "pycharm": {
     "name": "#%%\n"
    }
   },
   "execution_count": 98,
   "outputs": [
    {
     "name": "stdout",
     "output_type": "stream",
     "text": [
      "Inner product of vectors:\n",
      "66\n",
      "\n",
      "Inner product of matrices:\n",
      "[[17 52]\n",
      " [13 62]]\n",
      "\n",
      "\n",
      "Outer product of vectors:\n",
      "[[ 6 20]\n",
      " [18 60]]\n",
      "\n",
      "Outer product of matrices:\n",
      "[[ 2 10  0 10 20  6]\n",
      " [ 3 15  0 15 30  9]\n",
      " [ 4 20  0 20 40 12]\n",
      " [ 3 15  0 15 30  9]\n",
      " [ 2 10  0 10 20  6]\n",
      " [ 9 45  0 45 90 27]]\n",
      "\n",
      "\n",
      "Cross product of vectors:\n",
      "2\n",
      "\n",
      "Cross product of matrices:\n",
      "[[-20   4   7]\n",
      " [-84  36  20]]\n"
     ]
    }
   ]
  },
  {
   "cell_type": "markdown",
   "source": [
    "#### 17. Compute the covariance matrix of two given NumPy arrays"
   ],
   "metadata": {
    "collapsed": false
   }
  },
  {
   "cell_type": "code",
   "source": [
    "ex_array1 = np.array([[2, 3, 4],\n",
    "                      [3, 2, 9]])\n",
    "ex_array2 = np.array([[1, 5, 0],\n",
    "                      [5, 10, 3]])\n",
    "\n",
    "cov = np.cov(ex_array1, ex_array2)\n",
    "\n",
    "print(cov)"
   ],
   "metadata": {
    "collapsed": false,
    "pycharm": {
     "name": "#%%\n"
    }
   },
   "execution_count": 99,
   "outputs": [
    {
     "name": "stdout",
     "output_type": "stream",
     "text": [
      "[[  1.           3.          -0.5         -1.        ]\n",
      " [  3.          14.33333333  -7.5        -11.        ]\n",
      " [ -0.5         -7.5          7.           9.5       ]\n",
      " [ -1.         -11.           9.5         13.        ]]\n"
     ]
    }
   ]
  },
  {
   "cell_type": "markdown",
   "source": [
    "#### 18. Convert covariance matrix to correlation matrix using Python"
   ],
   "metadata": {
    "collapsed": false
   }
  },
  {
   "cell_type": "code",
   "source": [
    "v = np.sqrt(np.diag(cov))\n",
    "outer_v = np.outer(v, v)\n",
    "correlation = cov / outer_v\n",
    "correlation[cov == 0] = 0\n",
    "\n",
    "print(correlation)"
   ],
   "metadata": {
    "collapsed": false,
    "pycharm": {
     "name": "#%%\n"
    }
   },
   "execution_count": 100,
   "outputs": [
    {
     "name": "stdout",
     "output_type": "stream",
     "text": [
      "[[ 1.          0.79240582 -0.18898224 -0.2773501 ]\n",
      " [ 0.79240582  1.         -0.74875312 -0.80583738]\n",
      " [-0.18898224 -0.74875312  1.          0.99587059]\n",
      " [-0.2773501  -0.80583738  0.99587059  1.        ]]\n"
     ]
    }
   ]
  },
  {
   "cell_type": "markdown",
   "source": [
    "#### 19. Compute the Kronecker product of two mulitdimension NumPy arrays"
   ],
   "metadata": {
    "collapsed": false
   }
  },
  {
   "cell_type": "code",
   "source": [
    "ex_array1 = np.array([[2, 3, 4],\n",
    "                      [3, 2, 9]])\n",
    "ex_array2 = np.array([[1, 5, 0],\n",
    "                      [5, 10, 3]])\n",
    "\n",
    "kronecker = np.kron(ex_array1, ex_array2)\n",
    "\n",
    "print(kronecker)"
   ],
   "metadata": {
    "collapsed": false,
    "pycharm": {
     "name": "#%%\n"
    }
   },
   "execution_count": 101,
   "outputs": [
    {
     "name": "stdout",
     "output_type": "stream",
     "text": [
      "[[ 2 10  0  3 15  0  4 20  0]\n",
      " [10 20  6 15 30  9 20 40 12]\n",
      " [ 3 15  0  2 10  0  9 45  0]\n",
      " [15 30  9 10 20  6 45 90 27]]\n"
     ]
    }
   ]
  },
  {
   "cell_type": "markdown",
   "source": [
    "#### 20. Convert the matrix into a list"
   ],
   "metadata": {
    "collapsed": false
   }
  },
  {
   "cell_type": "code",
   "source": [
    "ex_array = np.array([[11, 2, 13],\n",
    "                     [14, 5, 16],\n",
    "                     [17, 15, 9]])\n",
    "\n",
    "list_array = ex_array.tolist()\n",
    "\n",
    "print(list_array)\n",
    "print(type(list_array))"
   ],
   "metadata": {
    "collapsed": false,
    "pycharm": {
     "name": "#%%\n"
    }
   },
   "execution_count": 105,
   "outputs": [
    {
     "name": "stdout",
     "output_type": "stream",
     "text": [
      "[[11, 2, 13], [14, 5, 16], [17, 15, 9]]\n",
      "<class 'list'>\n"
     ]
    }
   ]
  },
  {
   "cell_type": "markdown",
   "source": [
    "# Questions on NumPy Indexing"
   ],
   "metadata": {
    "collapsed": false,
    "pycharm": {
     "name": "#%% md\n"
    }
   }
  },
  {
   "cell_type": "markdown",
   "source": [
    "#### 1. Replace NumPy array elements that doesn’t satisfy the given condition"
   ],
   "metadata": {
    "collapsed": false,
    "pycharm": {
     "name": "#%% md\n"
    }
   }
  },
  {
   "cell_type": "code",
   "execution_count": 107,
   "outputs": [
    {
     "name": "stdout",
     "output_type": "stream",
     "text": [
      "Original array:\n",
      "[[11  2 13]\n",
      " [ 4  5 16]\n",
      " [17 15  9]]\n",
      "\n",
      "Replace all values that are larger than 10 with 0\n",
      "\n",
      "New array:\n",
      "[[0 2 0]\n",
      " [4 5 0]\n",
      " [0 0 9]]\n"
     ]
    }
   ],
   "source": [
    "ex_array = np.array([[11, 2, 13],\n",
    "                     [4, 5, 16],\n",
    "                     [17, 15, 9]])\n",
    "\n",
    "print(f'Original array:\\n{ex_array}')\n",
    "\n",
    "print('\\nReplace all values that are larger than 10 with 0')\n",
    "ex_array[ex_array > 10] = 0\n",
    "\n",
    "print(f'\\nNew array:\\n{ex_array}')"
   ],
   "metadata": {
    "collapsed": false,
    "pycharm": {
     "name": "#%%\n"
    }
   }
  },
  {
   "cell_type": "markdown",
   "source": [
    "#### 2. Return the indices of elements where the given condition is satisfied"
   ],
   "metadata": {
    "collapsed": false
   }
  },
  {
   "cell_type": "code",
   "execution_count": 111,
   "outputs": [
    {
     "name": "stdout",
     "output_type": "stream",
     "text": [
      "Indices of elementes that are greater than 10:\n",
      "(array([0, 0, 1, 2, 2], dtype=int64), array([0, 2, 2, 0, 1], dtype=int64))\n",
      "\n",
      "Elements that are greater than 10:\n",
      "[11 13 16 17 15]\n"
     ]
    }
   ],
   "source": [
    "ex_array = np.array([[11, 2, 13],\n",
    "                     [4, 5, 16],\n",
    "                     [17, 15, 9]])\n",
    "\n",
    "indices = np.where(ex_array > 10)\n",
    "print(f'Indices of elementes that are greater than 10:\\n{indices}')\n",
    "print(f'\\nElements that are greater than 10:\\n{ex_array[indices]}')"
   ],
   "metadata": {
    "collapsed": false,
    "pycharm": {
     "name": "#%%\n"
    }
   }
  },
  {
   "cell_type": "markdown",
   "source": [
    "#### 3. Replace NaN values with average of columns"
   ],
   "metadata": {
    "collapsed": false
   }
  },
  {
   "cell_type": "code",
   "execution_count": 113,
   "outputs": [
    {
     "name": "stdout",
     "output_type": "stream",
     "text": [
      "Original array:\n",
      "[[1.3 2.5 3.6 nan]\n",
      " [2.6 3.3 nan 5.5]\n",
      " [2.1 3.2 5.4 6.5]]\n",
      "\n",
      "Columns means:\n",
      "[2.  3.  4.5 6. ]\n",
      "\n",
      "Final array:\n",
      "[[1.3 2.5 3.6 6. ]\n",
      " [2.6 3.3 4.5 5.5]\n",
      " [2.1 3.2 5.4 6.5]]\n"
     ]
    }
   ],
   "source": [
    "ex_array = np.array([[1.3, 2.5, 3.6, np.nan],\n",
    "                      [2.6, 3.3, np.nan, 5.5],\n",
    "                      [2.1, 3.2, 5.4, 6.5]])\n",
    "\n",
    "print(f'Original array:\\n{ex_array}')\n",
    "\n",
    "col_mean = np.nanmean(ex_array, axis=0)\n",
    "print(f'\\nColumns means:\\n{col_mean}')\n",
    "\n",
    "nan_indices = np.where(np.isnan(ex_array))\n",
    "ex_array[nan_indices] = np.take(col_mean, nan_indices[1])\n",
    "\n",
    "print(f'\\nFinal array:\\n{ex_array}')"
   ],
   "metadata": {
    "collapsed": false,
    "pycharm": {
     "name": "#%%\n"
    }
   }
  },
  {
   "cell_type": "markdown",
   "source": [
    "#### 4. Replace negative value with zero in numpy array"
   ],
   "metadata": {
    "collapsed": false
   }
  },
  {
   "cell_type": "code",
   "execution_count": 114,
   "outputs": [
    {
     "name": "stdout",
     "output_type": "stream",
     "text": [
      "Original array:\n",
      "[[ 11  -2  13]\n",
      " [  4  -5  16]\n",
      " [-17  15  -9]]\n",
      "\n",
      "Final array:\n",
      "[[11  0 13]\n",
      " [ 4  0 16]\n",
      " [ 0 15  0]]\n"
     ]
    }
   ],
   "source": [
    "ex_array = np.array([[11, -2, 13],\n",
    "                     [4, -5, 16],\n",
    "                     [-17, 15, -9]])\n",
    "\n",
    "print(f'Original array:\\n{ex_array}')\n",
    "\n",
    "negative_indices = np.where(ex_array < 0)\n",
    "ex_array[negative_indices] = 0\n",
    "\n",
    "print(f'\\nFinal array:\\n{ex_array}')"
   ],
   "metadata": {
    "collapsed": false,
    "pycharm": {
     "name": "#%%\n"
    }
   }
  },
  {
   "cell_type": "markdown",
   "source": [
    "#### 5. How to get values of an NumPy array at certain index positions?"
   ],
   "metadata": {
    "collapsed": false
   }
  },
  {
   "cell_type": "code",
   "execution_count": 119,
   "outputs": [
    {
     "name": "stdout",
     "output_type": "stream",
     "text": [
      "Array 1:\n",
      "[11 10 22 30 33]\n",
      "Array 2:\n",
      "[ 1 15 60]\n",
      "\n",
      "Take 1 and 15 from Array 2 and put them in 1st and 5th positions of Array 1\n",
      "\n",
      "Final array:\n",
      "[ 1 10 22 30 15]\n"
     ]
    }
   ],
   "source": [
    "ex_array1 = np.array([11, 10, 22, 30, 33])\n",
    "ex_array2 = np.array([1, 15, 60])\n",
    "\n",
    "print(f'Array 1:\\n{ex_array1}')\n",
    "print(f'Array 2:\\n{ex_array2}')\n",
    "\n",
    "print('\\nTake 1 and 15 from Array 2 and put them in 1st and 5th positions of Array 1')\n",
    "\n",
    "ex_array1.put([0, 4], ex_array2)\n",
    "\n",
    "print(f'\\nFinal array:\\n{ex_array1}')"
   ],
   "metadata": {
    "collapsed": false,
    "pycharm": {
     "name": "#%%\n"
    }
   }
  },
  {
   "cell_type": "markdown",
   "source": [
    "#### 6. Find indices of elements equal to zero in a NumPy array"
   ],
   "metadata": {
    "collapsed": false
   }
  },
  {
   "cell_type": "code",
   "execution_count": 128,
   "outputs": [
    {
     "name": "stdout",
     "output_type": "stream",
     "text": [
      "\n",
      "Zero indices:\n",
      "[[0 1]\n",
      " [1 2]\n",
      " [2 2]\n",
      " [2 3]\n",
      " [3 0]\n",
      " [3 2]]\n"
     ]
    }
   ],
   "source": [
    "ex_array = np.array([[6, 0, 1, 3],\n",
    "                  [4, -2, 0, 1],\n",
    "                  [2, 8, 0, 0],\n",
    "                  [0, 1, 0, 7]])\n",
    "\n",
    "zero_indices = np.argwhere(ex_array == 0)\n",
    "\n",
    "print(f'\\nZero indices:\\n{zero_indices}')"
   ],
   "metadata": {
    "collapsed": false,
    "pycharm": {
     "name": "#%%\n"
    }
   }
  },
  {
   "cell_type": "markdown",
   "source": [
    "#### 7. How to Remove columns in Numpy array that contains non-numeric values?"
   ],
   "metadata": {
    "collapsed": false
   }
  },
  {
   "cell_type": "code",
   "execution_count": 130,
   "outputs": [
    {
     "name": "stdout",
     "output_type": "stream",
     "text": [
      "Original array:\n",
      "[[10.5 22.5  nan]\n",
      " [41.  52.5  nan]]\n",
      "\n",
      "Removed non-numeric column array:\n",
      "[[10.5 22.5]\n",
      " [41.  52.5]]\n"
     ]
    }
   ],
   "source": [
    "ex_array = np.array([[10.5, 22.5, np.nan],\n",
    "                  [41, 52.5, np.nan]])\n",
    "\n",
    "print(f'Original array:\\n{ex_array}')\n",
    "\n",
    "col_removed = ex_array[:, ~np.isnan(ex_array).any(axis=0)]\n",
    "\n",
    "print(f'\\nRemoved non-numeric column array:\\n{col_removed}')\n"
   ],
   "metadata": {
    "collapsed": false,
    "pycharm": {
     "name": "#%%\n"
    }
   }
  },
  {
   "cell_type": "markdown",
   "source": [
    "#### 8. How to access different rows of a multidimensional NumPy array?"
   ],
   "metadata": {
    "collapsed": false
   }
  },
  {
   "cell_type": "code",
   "execution_count": 131,
   "outputs": [
    {
     "name": "stdout",
     "output_type": "stream",
     "text": [
      "Original array:\n",
      "[[10 20 30]\n",
      " [40  5 66]\n",
      " [70 88 94]]\n",
      "\n",
      "Accessed rows:\n",
      "[[10 20 30]\n",
      " [70 88 94]]\n"
     ]
    }
   ],
   "source": [
    "ex_array = np.array([[10, 20, 30],\n",
    "                    [40, 5, 66],\n",
    "                    [70, 88, 94]])\n",
    "\n",
    "print(f'Original array:\\n{ex_array}')\n",
    "\n",
    "# Accessing first and last rows\n",
    "new_array = ex_array[[0, 2]]\n",
    "print(f'\\nAccessed rows:\\n{new_array}')\n"
   ],
   "metadata": {
    "collapsed": false,
    "pycharm": {
     "name": "#%%\n"
    }
   }
  },
  {
   "cell_type": "markdown",
   "source": [
    "#### 9. Get row numbers of NumPy array having element larger than X"
   ],
   "metadata": {
    "collapsed": false
   }
  },
  {
   "cell_type": "code",
   "execution_count": 132,
   "outputs": [
    {
     "name": "stdout",
     "output_type": "stream",
     "text": [
      "(array([1, 3], dtype=int64),)\n"
     ]
    }
   ],
   "source": [
    "ex_array = np.array([[1, 2, 3, 4, 5],\n",
    "                  [10, -3, 30, 4, 5],\n",
    "                  [3, 2, 5, -4, 5],\n",
    "                  [9, 7, 3, 6, 5]])\n",
    "\n",
    "x = 6\n",
    "new_array = np.where(np.any(ex_array > x, axis=1))\n",
    "\n",
    "print(new_array)"
   ],
   "metadata": {
    "collapsed": false,
    "pycharm": {
     "name": "#%%\n"
    }
   }
  },
  {
   "cell_type": "markdown",
   "source": [
    "#### 10. Get filled with the diagonals of NumPy array"
   ],
   "metadata": {
    "collapsed": false
   }
  },
  {
   "cell_type": "code",
   "execution_count": 134,
   "outputs": [
    {
     "name": "stdout",
     "output_type": "stream",
     "text": [
      "Original array:\n",
      "[[ 1  2  3  4  5]\n",
      " [10 -3 30  4  5]\n",
      " [ 3  2  5 -4  5]\n",
      " [ 9  7  3  6  5]\n",
      " [ 0  2 12  5 17]]\n",
      "\n",
      "Array with diagonal filled with 0:\n",
      "[[ 0  2  3  4  5]\n",
      " [10  0 30  4  5]\n",
      " [ 3  2  0 -4  5]\n",
      " [ 9  7  3  0  5]\n",
      " [ 0  2 12  5  0]]\n"
     ]
    }
   ],
   "source": [
    "ex_array = np.array([[1, 2, 3, 4, 5],\n",
    "                  [10, -3, 30, 4, 5],\n",
    "                  [3, 2, 5, -4, 5],\n",
    "                  [9, 7, 3, 6, 5],\n",
    "                  [0, 2, 12, 5, 17]])\n",
    "\n",
    "print(f'Original array:\\n{ex_array}')\n",
    "\n",
    "np.fill_diagonal(ex_array, 0)\n",
    "print(f'\\nArray with diagonal filled with 0:\\n{ex_array}')\n"
   ],
   "metadata": {
    "collapsed": false,
    "pycharm": {
     "name": "#%%\n"
    }
   }
  },
  {
   "cell_type": "markdown",
   "source": [
    "#### 11. Check elements present in the NumPy array"
   ],
   "metadata": {
    "collapsed": false
   }
  },
  {
   "cell_type": "code",
   "execution_count": 135,
   "outputs": [
    {
     "name": "stdout",
     "output_type": "stream",
     "text": [
      "True\n",
      "False\n",
      "True\n",
      "False\n"
     ]
    }
   ],
   "source": [
    "ex_array = np.array([[2, 8, 9, 4],\n",
    "                   [9, 4, 9, 4],\n",
    "                   [4, 5, 9, 7],\n",
    "                   [2, 9, 4, 3]])\n",
    "\n",
    "print(4 in ex_array)\n",
    "print(1 in ex_array)\n",
    "print(3 in ex_array)\n",
    "print(12 in ex_array)"
   ],
   "metadata": {
    "collapsed": false,
    "pycharm": {
     "name": "#%%\n"
    }
   }
  },
  {
   "cell_type": "markdown",
   "source": [
    "#### 12. Combined array index by index"
   ],
   "metadata": {
    "collapsed": false
   }
  },
  {
   "cell_type": "code",
   "execution_count": null,
   "outputs": [],
   "source": [
    "# Don't know this one"
   ],
   "metadata": {
    "collapsed": false,
    "pycharm": {
     "name": "#%%\n"
    }
   }
  },
  {
   "cell_type": "markdown",
   "source": [
    "# Questions on NumPy Linear Algebra"
   ],
   "metadata": {
    "collapsed": false,
    "pycharm": {
     "name": "#%% md\n"
    }
   }
  },
  {
   "cell_type": "markdown",
   "source": [
    "#### 1. Find a matrix or vector norm using NumPy"
   ],
   "metadata": {
    "collapsed": false
   }
  },
  {
   "cell_type": "code",
   "execution_count": 136,
   "outputs": [
    {
     "name": "stdout",
     "output_type": "stream",
     "text": [
      "16.881943016134134\n"
     ]
    }
   ],
   "source": [
    "ex_vec = np.arange(10)\n",
    "vec_norm = np.linalg.norm(ex_vec)\n",
    "\n",
    "print(vec_norm)"
   ],
   "metadata": {
    "collapsed": false,
    "pycharm": {
     "name": "#%%\n"
    }
   }
  },
  {
   "cell_type": "markdown",
   "source": [
    "#### 2. Calculate the QR decomposition of a given matrix using NumPy"
   ],
   "metadata": {
    "collapsed": false
   }
  },
  {
   "cell_type": "code",
   "execution_count": 138,
   "outputs": [
    {
     "name": "stdout",
     "output_type": "stream",
     "text": [
      "Q:\n",
      "[[-0.31622777 -0.9486833 ]\n",
      " [-0.9486833   0.31622777]]\n",
      "R:\n",
      "[[-3.16227766 -4.42718872 -5.69209979]\n",
      " [ 0.         -0.63245553 -1.26491106]]\n"
     ]
    }
   ],
   "source": [
    "ex_array = np.array([[1, 2, 3],\n",
    "                     [3, 4, 5]])\n",
    "\n",
    "q, r = np.linalg.qr(ex_array)\n",
    "print(f'Q:\\n{q}\\nR:\\n{r}')"
   ],
   "metadata": {
    "collapsed": false,
    "pycharm": {
     "name": "#%%\n"
    }
   }
  },
  {
   "cell_type": "markdown",
   "source": [
    "#### 3. Compute the condition number of a given matrix using NumPy"
   ],
   "metadata": {
    "collapsed": false
   }
  },
  {
   "cell_type": "code",
   "execution_count": 139,
   "outputs": [
    {
     "name": "stdout",
     "output_type": "stream",
     "text": [
      "12.986944891100837\n"
     ]
    }
   ],
   "source": [
    "ex_array = np.array([[1, 2, 3],\n",
    "                     [3, 4, 5]])\n",
    "\n",
    "condition = np.linalg.cond(ex_array)\n",
    "\n",
    "print(condition)"
   ],
   "metadata": {
    "collapsed": false,
    "pycharm": {
     "name": "#%%\n"
    }
   }
  },
  {
   "cell_type": "markdown",
   "source": [
    "#### 4. Compute the eigenvalues and right eigenvectors of a given square array using NumPy?"
   ],
   "metadata": {
    "collapsed": false
   }
  },
  {
   "cell_type": "code",
   "execution_count": 141,
   "outputs": [
    {
     "name": "stdout",
     "output_type": "stream",
     "text": [
      "Eigen values:\n",
      "[-5.69973694  0.64746042 20.05227652]\n",
      "\n",
      "Right Eigen vectors:\n",
      "[[ 0.16267116 -0.02470318  0.17761459]\n",
      " [-0.94916409 -0.83045413  0.76686194]\n",
      " [ 0.2694914   0.55653903  0.61674616]]\n"
     ]
    }
   ],
   "source": [
    "ex_array = np.array([[1, 2, 3],\n",
    "                     [45, 4, 7],\n",
    "                     [9, 6, 10]])\n",
    "\n",
    "eigen_values, eigen_vectors = np.linalg.eig(ex_array)\n",
    "\n",
    "print(f'Eigen values:\\n{eigen_values}')\n",
    "print(f'\\nRight Eigen vectors:\\n{eigen_vectors}')"
   ],
   "metadata": {
    "collapsed": false,
    "pycharm": {
     "name": "#%%\n"
    }
   }
  },
  {
   "cell_type": "markdown",
   "source": [
    "#### 5. Calculate the Euclidean distance using NumPy"
   ],
   "metadata": {
    "collapsed": false
   }
  },
  {
   "cell_type": "code",
   "execution_count": 143,
   "outputs": [
    {
     "name": "stdout",
     "output_type": "stream",
     "text": [
      "2.23606797749979\n"
     ]
    }
   ],
   "source": [
    "point1 = np.array([1, 2, 3])\n",
    "point2 = np.array([1, 1, 1])\n",
    "\n",
    "distance = np.linalg.norm(point1 - point2)\n",
    "\n",
    "print(distance)\n"
   ],
   "metadata": {
    "collapsed": false,
    "pycharm": {
     "name": "#%%\n"
    }
   }
  },
  {
   "cell_type": "markdown",
   "source": [
    "# Questions on NumPy Random"
   ],
   "metadata": {
    "collapsed": false,
    "pycharm": {
     "name": "#%% md\n"
    }
   }
  },
  {
   "cell_type": "markdown",
   "source": [
    "#### 1. Create a Numpy array with random values"
   ],
   "metadata": {
    "collapsed": false,
    "pycharm": {
     "name": "#%% md\n"
    }
   }
  },
  {
   "cell_type": "code",
   "execution_count": null,
   "outputs": [],
   "source": [],
   "metadata": {
    "collapsed": false,
    "pycharm": {
     "name": "#%%\n"
    }
   }
  },
  {
   "cell_type": "markdown",
   "source": [
    "#### 2. How to choose elements from the list with different probability using NumPy?"
   ],
   "metadata": {
    "collapsed": false
   }
  },
  {
   "cell_type": "code",
   "execution_count": null,
   "outputs": [],
   "source": [],
   "metadata": {
    "collapsed": false,
    "pycharm": {
     "name": "#%%\n"
    }
   }
  },
  {
   "cell_type": "markdown",
   "source": [
    "#### 3. How to get weighted random choice in Python?"
   ],
   "metadata": {
    "collapsed": false
   }
  },
  {
   "cell_type": "code",
   "execution_count": null,
   "outputs": [],
   "source": [],
   "metadata": {
    "collapsed": false,
    "pycharm": {
     "name": "#%%\n"
    }
   }
  },
  {
   "cell_type": "markdown",
   "source": [
    "#### 4. Generate Random Numbers From The Uniform Distribution using NumPy"
   ],
   "metadata": {
    "collapsed": false
   }
  },
  {
   "cell_type": "code",
   "execution_count": null,
   "outputs": [],
   "source": [],
   "metadata": {
    "collapsed": false,
    "pycharm": {
     "name": "#%%\n"
    }
   }
  },
  {
   "cell_type": "markdown",
   "source": [
    "#### 5. Get Random Elements form geometric distribution"
   ],
   "metadata": {
    "collapsed": false
   }
  },
  {
   "cell_type": "code",
   "execution_count": null,
   "outputs": [],
   "source": [],
   "metadata": {
    "collapsed": false,
    "pycharm": {
     "name": "#%%\n"
    }
   }
  },
  {
   "cell_type": "markdown",
   "source": [
    "#### 6. Get Random elements from Laplace distribution"
   ],
   "metadata": {
    "collapsed": false
   }
  },
  {
   "cell_type": "code",
   "execution_count": null,
   "outputs": [],
   "source": [],
   "metadata": {
    "collapsed": false,
    "pycharm": {
     "name": "#%%\n"
    }
   }
  },
  {
   "cell_type": "markdown",
   "source": [
    "#### 7. Return a Matrix of random values from a uniform distribution"
   ],
   "metadata": {
    "collapsed": false
   }
  },
  {
   "cell_type": "code",
   "execution_count": null,
   "outputs": [],
   "source": [],
   "metadata": {
    "collapsed": false,
    "pycharm": {
     "name": "#%%\n"
    }
   }
  },
  {
   "cell_type": "markdown",
   "source": [
    "#### 8. Return a Matrix of random values from a Gaussian distribution"
   ],
   "metadata": {
    "collapsed": false
   }
  },
  {
   "cell_type": "code",
   "execution_count": null,
   "outputs": [],
   "source": [],
   "metadata": {
    "collapsed": false,
    "pycharm": {
     "name": "#%%"
    }
   }
  }
 ],
 "metadata": {
  "kernelspec": {
   "display_name": "Python 3",
   "language": "python",
   "name": "python3"
  },
  "language_info": {
   "codemirror_mode": {
    "name": "ipython",
    "version": 2
   },
   "file_extension": ".py",
   "mimetype": "text/x-python",
   "name": "python",
   "nbconvert_exporter": "python",
   "pygments_lexer": "ipython2",
   "version": "2.7.6"
  }
 },
 "nbformat": 4,
 "nbformat_minor": 0
}